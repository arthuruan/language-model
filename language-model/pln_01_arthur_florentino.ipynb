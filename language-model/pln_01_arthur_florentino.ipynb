{
  "nbformat": 4,
  "nbformat_minor": 0,
  "metadata": {
    "colab": {
      "provenance": [],
      "authorship_tag": "ABX9TyMQvR2d8tLRstxIKkAvdPU4",
      "include_colab_link": true
    },
    "kernelspec": {
      "name": "python3",
      "display_name": "Python 3"
    },
    "language_info": {
      "name": "python"
    }
  },
  "cells": [
    {
      "cell_type": "markdown",
      "metadata": {
        "id": "view-in-github",
        "colab_type": "text"
      },
      "source": [
        "<a href=\"https://colab.research.google.com/github/arthuruan/language-model/blob/main/pln_01_arthur_florentino.ipynb\" target=\"_parent\"><img src=\"https://colab.research.google.com/assets/colab-badge.svg\" alt=\"Open In Colab\"/></a>"
      ]
    },
    {
      "cell_type": "code",
      "execution_count": 3,
      "metadata": {
        "id": "XoOosYEHaHJ5"
      },
      "outputs": [],
      "source": [
        "import re\n",
        "import random\n",
        "from collections import Counter\n",
        "\n",
        "regex = \"[a-zA-ZçÇãÃõÕáÁéÉíÍóÓúÚâÂêÊîÎôÔûÛàÀ]+\"\n",
        "data = open(\"dataset.txt\").read()\n",
        "tokens = re.findall(regex, data)\n",
        "\n",
        "def p_trigram(w1, w2, w3):\n",
        "  count_w1w2 = 0\n",
        "  count_w1w2w3 = 0\n",
        "\n",
        "  for i in range(len(tokens)-1):\n",
        "    if tokens[i] == w1 and tokens[i+1] == w2:\n",
        "      count_w1w2 += 1\n",
        "\n",
        "      if tokens[i+2] == w3:\n",
        "        count_w1w2w3 += 1\n",
        "\n",
        "  if(count_w1w2 == 0):\n",
        "    return 0.0\n",
        "\n",
        "  return count_w1w2w3/count_w1w2\n",
        "\n",
        "def decide_next_word(w1, w2):\n",
        "  distinct_tokens_array = list(set(tokens))\n",
        "  probabilities = []\n",
        "\n",
        "  for next_word_candidate in distinct_tokens_array:\n",
        "    p_trigram_result = p_trigram(w1, w2, next_word_candidate)\n",
        "\n",
        "    if (p_trigram_result > 0):\n",
        "      probabilities.append((p_trigram_result, next_word_candidate))\n",
        "\n",
        "\n",
        "  sorted_tuples = sorted(probabilities, key=lambda x: x[0], reverse=True)\n",
        "\n",
        "  return random.choice(sorted_tuples[:5])[1]\n",
        "\n",
        "\n",
        "def shannon_method(w1, w2, corpus_size):\n",
        "  white_space = ' '\n",
        "  corpus = w1 + white_space + w2\n",
        "  current_words = (w1, w2)\n",
        "\n",
        "  while (corpus_size):\n",
        "    decided_word = decide_next_word(current_words[0], current_words[1])\n",
        "\n",
        "    corpus += white_space + str(decided_word)\n",
        "\n",
        "    current_words = (current_words[1], decided_word)\n",
        "    corpus_size -= 1\n",
        "\n",
        "\n",
        "  return corpus"
      ]
    },
    {
      "cell_type": "code",
      "source": [
        "shannon_method('em', 'que', 40)"
      ],
      "metadata": {
        "colab": {
          "base_uri": "https://localhost:8080/",
          "height": 71
        },
        "id": "Z5BHWx0WAMV8",
        "outputId": "b9365e4f-59e8-47f3-fbe0-adb3a4e98cd4"
      },
      "execution_count": 4,
      "outputs": [
        {
          "output_type": "execute_result",
          "data": {
            "text/plain": [
              "'em que a unge Finas telas que a desventura lhe há posto Sobre as ruínas da valente raça Virá sentar se e brilhará na terra E alegre o povo longamente aplaude XII Na voz universal perdeu se um dia A tribo Extinta'"
            ],
            "application/vnd.google.colaboratory.intrinsic+json": {
              "type": "string"
            }
          },
          "metadata": {},
          "execution_count": 4
        }
      ]
    }
  ]
}